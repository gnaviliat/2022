{
 "cells": [
  {
   "cell_type": "markdown",
   "id": "530d6453",
   "metadata": {},
   "source": [
    "Nous allons donc tester comment fonctionnent les fenêtres sur python à partir de la bibliothèque tkinter. Tout d abord nous allons voir comment créer simplment une fenêtre. Je vous propose donc dans un premier temps d exécuter le code ci après puis de le taper dans votre interpréteur python (pyzzo ou anaconda)et de voir ce que cela donne. Attention si vous avez plein de fenêtre ouvertes vous risquez de ne pas voir le résultat, réduisez bien tout :)"
   ]
  },
  {
   "cell_type": "code",
   "execution_count": 1,
   "id": "84fb5df4",
   "metadata": {},
   "outputs": [],
   "source": [
    "\"\"\"Premier exemple avec Tkinter.\n",
    "\n",
    "On crée une fenêtre simple qui souhaite la bienvenue à l'utilisateur.\n",
    "\n",
    "\"\"\"\n",
    "\n",
    "# On importe la bibliothèque Tkinter\n",
    "from tkinter import *\n",
    "\n",
    "# On crée une fenêtre, racine de notre interface\n",
    "fenetre = Tk()\n",
    "\n",
    "# On crée un label (ligne de texte) souhaitant la bienvenue\n",
    "# Note : le premier paramètre passé au constructeur de Label est notre\n",
    "# interface racine, donc où doit s'afficher le Label\n",
    "champ_label = Label(fenetre, text=\"Bonjour les gens !\")\n",
    "\n",
    "# On affiche le label dans la fenêtre\n",
    "champ_label.pack()\n",
    "\n",
    "# On démarre la boucle Tkinter qui s'interompt quand on ferme la fenêtre\n",
    "fenetre.mainloop()\n"
   ]
  },
  {
   "cell_type": "markdown",
   "id": "d7bd79c1",
   "metadata": {},
   "source": [
    "\n",
    "\n",
    "Avez vous noté des différences entre ce qui est lancé depus le notebook et ce que vous avez tapé vous même dans votre interpréteur python ? Maintenant évoquons comment réaliser certaines fonctionnalités. Tkinter permet d'intégrer des widgets.\n",
    "\n",
    "Un widget est un objet qui va avoir une spécificité fonctionnelle pratique (bouton, zone de saisie, zone de pointage etc...) Commençons simplement: Le Bouton :)\n",
    "\n",
    "D une façon globae créer un bouton n'est pas très compliqué en soit. Si vous intégrez le code suivant dans un programme qui crée une fenêtre, en toute logique il va fermer celle-ci.\n"
   ]
  },
  {
   "cell_type": "code",
   "execution_count": 2,
   "id": "01d40a0a",
   "metadata": {},
   "outputs": [
    {
     "ename": "TclError",
     "evalue": "can't invoke \"button\" command: application has been destroyed",
     "output_type": "error",
     "traceback": [
      "\u001b[0;31m---------------------------------------------------------------------------\u001b[0m",
      "\u001b[0;31mTclError\u001b[0m                                  Traceback (most recent call last)",
      "\u001b[0;32m/var/folders/xd/49htp37532zdvb38kpksrrvm0000gn/T/ipykernel_7175/65274586.py\u001b[0m in \u001b[0;36m<module>\u001b[0;34m\u001b[0m\n\u001b[0;32m----> 1\u001b[0;31m \u001b[0mbouton\u001b[0m\u001b[0;34m=\u001b[0m\u001b[0mButton\u001b[0m\u001b[0;34m(\u001b[0m\u001b[0mfenetre\u001b[0m\u001b[0;34m,\u001b[0m \u001b[0mtext\u001b[0m\u001b[0;34m=\u001b[0m\u001b[0;34m\"Fermer\"\u001b[0m\u001b[0;34m,\u001b[0m \u001b[0mcommand\u001b[0m\u001b[0;34m=\u001b[0m\u001b[0mfenetre\u001b[0m\u001b[0;34m.\u001b[0m\u001b[0mquit\u001b[0m\u001b[0;34m)\u001b[0m\u001b[0;34m\u001b[0m\u001b[0;34m\u001b[0m\u001b[0m\n\u001b[0m\u001b[1;32m      2\u001b[0m \u001b[0mbouton\u001b[0m\u001b[0;34m.\u001b[0m\u001b[0mpack\u001b[0m\u001b[0;34m(\u001b[0m\u001b[0;34m)\u001b[0m\u001b[0;34m\u001b[0m\u001b[0;34m\u001b[0m\u001b[0m\n",
      "\u001b[0;32m/opt/anaconda3/lib/python3.9/tkinter/__init__.py\u001b[0m in \u001b[0;36m__init__\u001b[0;34m(self, master, cnf, **kw)\u001b[0m\n\u001b[1;32m   2648\u001b[0m             \u001b[0moverrelief\u001b[0m\u001b[0;34m,\u001b[0m \u001b[0mstate\u001b[0m\u001b[0;34m,\u001b[0m \u001b[0mwidth\u001b[0m\u001b[0;34m\u001b[0m\u001b[0;34m\u001b[0m\u001b[0m\n\u001b[1;32m   2649\u001b[0m         \"\"\"\n\u001b[0;32m-> 2650\u001b[0;31m         \u001b[0mWidget\u001b[0m\u001b[0;34m.\u001b[0m\u001b[0m__init__\u001b[0m\u001b[0;34m(\u001b[0m\u001b[0mself\u001b[0m\u001b[0;34m,\u001b[0m \u001b[0mmaster\u001b[0m\u001b[0;34m,\u001b[0m \u001b[0;34m'button'\u001b[0m\u001b[0;34m,\u001b[0m \u001b[0mcnf\u001b[0m\u001b[0;34m,\u001b[0m \u001b[0mkw\u001b[0m\u001b[0;34m)\u001b[0m\u001b[0;34m\u001b[0m\u001b[0;34m\u001b[0m\u001b[0m\n\u001b[0m\u001b[1;32m   2651\u001b[0m \u001b[0;34m\u001b[0m\u001b[0m\n\u001b[1;32m   2652\u001b[0m     \u001b[0;32mdef\u001b[0m \u001b[0mflash\u001b[0m\u001b[0;34m(\u001b[0m\u001b[0mself\u001b[0m\u001b[0;34m)\u001b[0m\u001b[0;34m:\u001b[0m\u001b[0;34m\u001b[0m\u001b[0;34m\u001b[0m\u001b[0m\n",
      "\u001b[0;32m/opt/anaconda3/lib/python3.9/tkinter/__init__.py\u001b[0m in \u001b[0;36m__init__\u001b[0;34m(self, master, widgetName, cnf, kw, extra)\u001b[0m\n\u001b[1;32m   2570\u001b[0m         \u001b[0;32mfor\u001b[0m \u001b[0mk\u001b[0m\u001b[0;34m,\u001b[0m \u001b[0mv\u001b[0m \u001b[0;32min\u001b[0m \u001b[0mclasses\u001b[0m\u001b[0;34m:\u001b[0m\u001b[0;34m\u001b[0m\u001b[0;34m\u001b[0m\u001b[0m\n\u001b[1;32m   2571\u001b[0m             \u001b[0;32mdel\u001b[0m \u001b[0mcnf\u001b[0m\u001b[0;34m[\u001b[0m\u001b[0mk\u001b[0m\u001b[0;34m]\u001b[0m\u001b[0;34m\u001b[0m\u001b[0;34m\u001b[0m\u001b[0m\n\u001b[0;32m-> 2572\u001b[0;31m         self.tk.call(\n\u001b[0m\u001b[1;32m   2573\u001b[0m             (widgetName, self._w) + extra + self._options(cnf))\n\u001b[1;32m   2574\u001b[0m         \u001b[0;32mfor\u001b[0m \u001b[0mk\u001b[0m\u001b[0;34m,\u001b[0m \u001b[0mv\u001b[0m \u001b[0;32min\u001b[0m \u001b[0mclasses\u001b[0m\u001b[0;34m:\u001b[0m\u001b[0;34m\u001b[0m\u001b[0;34m\u001b[0m\u001b[0m\n",
      "\u001b[0;31mTclError\u001b[0m: can't invoke \"button\" command: application has been destroyed"
     ]
    }
   ],
   "source": [
    "bouton=Button(fenetre, text=\"Fermer\", command=fenetre.quit)\n",
    "bouton.pack()"
   ]
  },
  {
   "cell_type": "markdown",
   "id": "b3cb0c83",
   "metadata": {},
   "source": [
    "essayez donc d écrire le code qui va intégrer un bouton dans la fenêtre que vous avez créé précédemment..."
   ]
  },
  {
   "cell_type": "code",
   "execution_count": null,
   "id": "5914baff",
   "metadata": {},
   "outputs": [],
   "source": []
  },
  {
   "cell_type": "markdown",
   "id": "fffd9df1",
   "metadata": {},
   "source": [
    "attention, réfléchissez... maintenant on peut vouloir exploiter la fenêtre pour afficher du contenu à lintérieur: On utilise pour cela un canvas (canvas en anglais, ou toile). Essayez d intégrer ce code dans votre programme initial"
   ]
  },
  {
   "cell_type": "code",
   "execution_count": null,
   "id": "4c0271aa",
   "metadata": {},
   "outputs": [],
   "source": [
    "canvas = Canvas(fenetre, width=150, height=120, background='yellow')\n",
    "ligne1 = canvas.create_line(75, 0, 75, 120)\n",
    "ligne2 = canvas.create_line(0, 60, 150, 60)\n",
    "txt = canvas.create_text(75, 60, text=\"Cible\", font=\"Arial 16 italic\", fill=\"blue\")\n",
    "canvas.pack()"
   ]
  },
  {
   "cell_type": "markdown",
   "id": "17941937",
   "metadata": {},
   "source": [
    "Votre mission est maintenant à partir de ces 3 notions de créer une fenêtre qui contiendra un canevas, deux boutons (lancer et quitter) Lancer doit afficher un message \"gagné\" par exemple dans le cannevas. quitter doit fermer la fenêtre. Vous devrez découvrir la notion de label"
   ]
  },
  {
   "cell_type": "code",
   "execution_count": null,
   "id": "2997829e",
   "metadata": {},
   "outputs": [],
   "source": []
  }
 ],
 "metadata": {
  "kernelspec": {
   "display_name": "Python 3 (ipykernel)",
   "language": "python",
   "name": "python3"
  },
  "language_info": {
   "codemirror_mode": {
    "name": "ipython",
    "version": 3
   },
   "file_extension": ".py",
   "mimetype": "text/x-python",
   "name": "python",
   "nbconvert_exporter": "python",
   "pygments_lexer": "ipython3",
   "version": "3.9.7"
  }
 },
 "nbformat": 4,
 "nbformat_minor": 5
}
